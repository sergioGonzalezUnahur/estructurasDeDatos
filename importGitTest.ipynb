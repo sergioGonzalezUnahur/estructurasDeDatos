{
  "nbformat": 4,
  "nbformat_minor": 0,
  "metadata": {
    "colab": {
      "name": "importGitTest.ipynb",
      "provenance": [],
      "authorship_tag": "ABX9TyNDbPIuIm7/lFm5Hr8sMeff",
      "include_colab_link": true
    },
    "kernelspec": {
      "name": "python3",
      "display_name": "Python 3"
    }
  },
  "cells": [
    {
      "cell_type": "markdown",
      "metadata": {
        "id": "view-in-github",
        "colab_type": "text"
      },
      "source": [
        "<a href=\"https://colab.research.google.com/github/sergioalbgonz/estructurasDeDatos/blob/master/importGitTest.ipynb\" target=\"_parent\"><img src=\"https://colab.research.google.com/assets/colab-badge.svg\" alt=\"Open In Colab\"/></a>"
      ]
    },
    {
      "cell_type": "code",
      "metadata": {
        "id": "NWOZXir9-jf_",
        "colab_type": "code",
        "colab": {}
      },
      "source": [
        "!git clone https://github.com/sergioalbgonz/estructurasDeDatos.git\n",
        "%cd estructurasDeDatos"
      ],
      "execution_count": 0,
      "outputs": []
    },
    {
      "cell_type": "code",
      "metadata": {
        "id": "ZMhnmIrgAx13",
        "colab_type": "code",
        "colab": {}
      },
      "source": [
        "! git fetch\n",
        "! git pull\n",
        "\n",
        "%load gitTest.py\n",
        "\n",
        "import gitTest"
      ],
      "execution_count": 0,
      "outputs": []
    },
    {
      "cell_type": "code",
      "metadata": {
        "id": "W6MB8Cx1A7qs",
        "colab_type": "code",
        "colab": {
          "base_uri": "https://localhost:8080/",
          "height": 51
        },
        "outputId": "64fafcb6-3cc3-4753-8f33-bf97a976e078"
      },
      "source": [
        "print(gitTest.funcion1(\"hola\"))\n",
        "print(gitTest.funcion2(\"hola\"))"
      ],
      "execution_count": 15,
      "outputs": [
        {
          "output_type": "stream",
          "text": [
            "hola\n",
            "holahola\n"
          ],
          "name": "stdout"
        }
      ]
    }
  ]
}