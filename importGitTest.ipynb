{
  "nbformat": 4,
  "nbformat_minor": 0,
  "metadata": {
    "colab": {
      "name": "importGitTest.ipynb",
      "provenance": [],
      "authorship_tag": "ABX9TyNAf0UAjPjbXPQCqK5W+efd",
      "include_colab_link": true
    },
    "kernelspec": {
      "name": "python3",
      "display_name": "Python 3"
    }
  },
  "cells": [
    {
      "cell_type": "markdown",
      "metadata": {
        "id": "view-in-github",
        "colab_type": "text"
      },
      "source": [
        "<a href=\"https://colab.research.google.com/github/sergioalbgonz/estructurasDeDatos/blob/master/importGitTest.ipynb\" target=\"_parent\"><img src=\"https://colab.research.google.com/assets/colab-badge.svg\" alt=\"Open In Colab\"/></a>"
      ]
    },
    {
      "cell_type": "code",
      "metadata": {
        "id": "NWOZXir9-jf_",
        "colab_type": "code",
        "colab": {
          "base_uri": "https://localhost:8080/",
          "height": 51
        },
        "outputId": "0883ad63-d8e7-4e57-860d-e05f30f79ccc"
      },
      "source": [
        "!git clone https://github.com/sergioalbgonz/estructurasDeDatos.git\n",
        "%cd estructurasDeDatos"
      ],
      "execution_count": 1,
      "outputs": [
        {
          "output_type": "stream",
          "text": [
            "fatal: destination path 'estructurasDeDatos' already exists and is not an empty directory.\n",
            "/content/estructurasDeDatos\n"
          ],
          "name": "stdout"
        }
      ]
    },
    {
      "cell_type": "code",
      "metadata": {
        "id": "ZMhnmIrgAx13",
        "colab_type": "code",
        "colab": {}
      },
      "source": [
        "! git fetch\n",
        "! git pull\n",
        "\n",
        "%load gitTest.py\n",
        "\n",
        "import gitTest"
      ],
      "execution_count": 0,
      "outputs": []
    },
    {
      "cell_type": "code",
      "metadata": {
        "id": "W6MB8Cx1A7qs",
        "colab_type": "code",
        "outputId": "40758525-87ee-404f-861a-a7326705336f",
        "colab": {
          "base_uri": "https://localhost:8080/",
          "height": 68
        }
      },
      "source": [
        "print(gitTest.funcion1(\"hola\"))\n",
        "print(gitTest.funcion2(\"hola\"))\n",
        "print(gitTest.funcion3(\"hola\"))"
      ],
      "execution_count": 5,
      "outputs": [
        {
          "output_type": "stream",
          "text": [
            "hola\n",
            "holahola\n",
            "holaholaholaholahola\n"
          ],
          "name": "stdout"
        }
      ]
    }
  ]
}