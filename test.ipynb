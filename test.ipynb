{
  "nbformat": 4,
  "nbformat_minor": 0,
  "metadata": {
    "colab": {
      "name": "test.ipynb",
      "provenance": [],
      "authorship_tag": "ABX9TyMA2RexqFi+X6Sk0SVXgKKd",
      "include_colab_link": true
    },
    "kernelspec": {
      "name": "python3",
      "display_name": "Python 3"
    }
  },
  "cells": [
    {
      "cell_type": "markdown",
      "metadata": {
        "id": "view-in-github",
        "colab_type": "text"
      },
      "source": [
        "<a href=\"https://colab.research.google.com/github/sergioalbgonz/estructurasDeDatos/blob/master/test.ipynb\" target=\"_parent\"><img src=\"https://colab.research.google.com/assets/colab-badge.svg\" alt=\"Open In Colab\"/></a>"
      ]
    },
    {
      "cell_type": "code",
      "metadata": {
        "id": "ioX9KrX4wSSA",
        "colab_type": "code",
        "colab": {}
      },
      "source": [
        "class TdaTest:\n",
        "  def __init__(self, primer=0, segundo=0):\n",
        "    self.primer = primer\n",
        "    self.segundo = segundo\n",
        "  \n",
        "  def __repr__(self):\n",
        "    return str(self.primer)+\",\"+str(self.segundo)\n",
        "\n",
        "  def getPrimer(self):\n",
        "    return self.primer"
      ],
      "execution_count": 0,
      "outputs": []
    }
  ]
}