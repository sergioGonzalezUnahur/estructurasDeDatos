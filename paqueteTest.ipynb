{
  "nbformat": 4,
  "nbformat_minor": 0,
  "metadata": {
    "colab": {
      "name": "paqueteTest.ipynb",
      "provenance": [],
      "authorship_tag": "ABX9TyOHQkwJAmMoCVyzqWL53Bn6",
      "include_colab_link": true
    },
    "kernelspec": {
      "name": "python3",
      "display_name": "Python 3"
    }
  },
  "cells": [
    {
      "cell_type": "markdown",
      "metadata": {
        "id": "view-in-github",
        "colab_type": "text"
      },
      "source": [
        "<a href=\"https://colab.research.google.com/github/sergioalbgonz/estructurasDeDatos/blob/master/paqueteTest.ipynb\" target=\"_parent\"><img src=\"https://colab.research.google.com/assets/colab-badge.svg\" alt=\"Open In Colab\"/></a>"
      ]
    },
    {
      "cell_type": "code",
      "metadata": {
        "id": "xI0nZEYQvDzS",
        "colab_type": "code",
        "colab": {}
      },
      "source": [
        "def test(name):\n",
        "  return name\n",
        "def test2(name):\n",
        "  return name"
      ],
      "execution_count": 0,
      "outputs": []
    }
  ]
}